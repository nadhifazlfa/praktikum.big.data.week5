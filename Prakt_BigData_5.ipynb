{
  "nbformat": 4,
  "nbformat_minor": 0,
  "metadata": {
    "colab": {
      "provenance": [],
      "authorship_tag": "ABX9TyNU53t46QBdED3mvAT5EMGZ",
      "include_colab_link": true
    },
    "kernelspec": {
      "name": "python3",
      "display_name": "Python 3"
    },
    "language_info": {
      "name": "python"
    }
  },
  "cells": [
    {
      "cell_type": "markdown",
      "metadata": {
        "id": "view-in-github",
        "colab_type": "text"
      },
      "source": [
        "<a href=\"https://colab.research.google.com/github/nadhifazlfa/praktikum.big.data.week5/blob/main/Prakt_BigData_5.ipynb\" target=\"_parent\"><img src=\"https://colab.research.google.com/assets/colab-badge.svg\" alt=\"Open In Colab\"/></a>"
      ]
    },
    {
      "cell_type": "code",
      "source": [
        "# Tugas 1\n",
        "from collections import defaultdict\n",
        "\n",
        "# Data input\n",
        "data = [\n",
        "    \"Mobil berjalan cepat\",\n",
        "    \"Cepat atau lambat\",\n",
        "    \"Lambat itu membosankan\"\n",
        "]\n",
        "\n",
        "# Map phase\n",
        "mapped = []\n",
        "for line in data:\n",
        "    for word in line.split():\n",
        "        mapped.append((word.lower(), 1))  # key = kata dalam huruf kecil, value = 1\n",
        "\n",
        "# Shuffle phase (pengelompokan berdasarkan key)\n",
        "shuffled = defaultdict(list)\n",
        "for key, value in mapped:\n",
        "    shuffled[key].append(value)\n",
        "\n",
        "# Reduce phase\n",
        "reduced = { key: sum(vals) for key, vals in shuffled.items() }\n",
        "\n",
        "# Output\n",
        "print(\"Hasil Map:\", mapped)\n",
        "print(\"Hasil Reduce:\", reduced)\n"
      ],
      "metadata": {
        "colab": {
          "base_uri": "https://localhost:8080/"
        },
        "id": "Cscp_2izfQy8",
        "outputId": "4854b32e-317b-4a01-dfb7-d5d7a78b5bde"
      },
      "execution_count": 3,
      "outputs": [
        {
          "output_type": "stream",
          "name": "stdout",
          "text": [
            "Hasil Map: [('mobil', 1), ('berjalan', 1), ('cepat', 1), ('cepat', 1), ('atau', 1), ('lambat', 1), ('lambat', 1), ('itu', 1), ('membosankan', 1)]\n",
            "Hasil Reduce: {'mobil': 1, 'berjalan': 1, 'cepat': 2, 'atau': 1, 'lambat': 2, 'itu': 1, 'membosankan': 1}\n"
          ]
        }
      ]
    },
    {
      "cell_type": "code",
      "source": [
        "# Tugas 2\n",
        "from collections import defaultdict\n",
        "\n",
        "# Data input: list kalimat / string\n",
        "data = [\n",
        "    \"Python itu keren\",\n",
        "    \"Belajar MapReduce\",\n",
        "    \"Huruf dihitung jumlahnya\"\n",
        "]\n",
        "\n",
        "# Fungsi mapper: keluarkan key = karakter (huruf), value = 1\n",
        "def mapper(line):\n",
        "    results = []\n",
        "    for ch in line:\n",
        "        ch_lower = ch.lower()\n",
        "        # abaikan spasi dan karakter non-alfabet\n",
        "        if ch_lower.isalpha():\n",
        "            results.append((ch_lower, 1))\n",
        "    return results\n",
        "\n",
        "# Fase Map: jalankan mapper ke tiap baris\n",
        "mapped = []\n",
        "for line in data:\n",
        "    mapped.extend(mapper(line))\n",
        "\n",
        "# Shuffle / pengelompokan berdasarkan key karakter\n",
        "shuffled = defaultdict(list)\n",
        "for key, val in mapped:\n",
        "    shuffled[key].append(val)\n",
        "\n",
        "# Fungsi reducer: jumlahkan nilai-nilai untuk tiap karakter\n",
        "def reducer(key, values):\n",
        "    return (key, sum(values))\n",
        "\n",
        "# Fase Reduce: ke tiap key\n",
        "reduced = []\n",
        "for key, vals in shuffled.items():\n",
        "    reduced.append(reducer(key, vals))\n",
        "\n",
        "# Output: urutkan berdasarkan karakter agar rapi\n",
        "reduced_sorted = sorted(reduced, key=lambda x: x[0])\n",
        "\n",
        "print(\"=== Hasil Map (key, 1) ===\")\n",
        "print(mapped)\n",
        "print()\n",
        "print(\"=== Hasil Reduce (karakter : jumlah) ===\")\n",
        "for char, cnt in reduced_sorted:\n",
        "    print(f\"{char} : {cnt}\")\n"
      ],
      "metadata": {
        "colab": {
          "base_uri": "https://localhost:8080/"
        },
        "id": "dOjc0w1JfeH-",
        "outputId": "1052dfe1-5abd-41de-b48a-a6e399a131d1"
      },
      "execution_count": 4,
      "outputs": [
        {
          "output_type": "stream",
          "name": "stdout",
          "text": [
            "=== Hasil Map (key, 1) ===\n",
            "[('p', 1), ('y', 1), ('t', 1), ('h', 1), ('o', 1), ('n', 1), ('i', 1), ('t', 1), ('u', 1), ('k', 1), ('e', 1), ('r', 1), ('e', 1), ('n', 1), ('b', 1), ('e', 1), ('l', 1), ('a', 1), ('j', 1), ('a', 1), ('r', 1), ('m', 1), ('a', 1), ('p', 1), ('r', 1), ('e', 1), ('d', 1), ('u', 1), ('c', 1), ('e', 1), ('h', 1), ('u', 1), ('r', 1), ('u', 1), ('f', 1), ('d', 1), ('i', 1), ('h', 1), ('i', 1), ('t', 1), ('u', 1), ('n', 1), ('g', 1), ('j', 1), ('u', 1), ('m', 1), ('l', 1), ('a', 1), ('h', 1), ('n', 1), ('y', 1), ('a', 1)]\n",
            "\n",
            "=== Hasil Reduce (karakter : jumlah) ===\n",
            "a : 5\n",
            "b : 1\n",
            "c : 1\n",
            "d : 2\n",
            "e : 5\n",
            "f : 1\n",
            "g : 1\n",
            "h : 4\n",
            "i : 3\n",
            "j : 2\n",
            "k : 1\n",
            "l : 2\n",
            "m : 2\n",
            "n : 4\n",
            "o : 1\n",
            "p : 2\n",
            "r : 4\n",
            "t : 3\n",
            "u : 6\n",
            "y : 2\n"
          ]
        }
      ]
    }
  ]
}